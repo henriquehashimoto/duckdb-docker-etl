{
 "cells": [
  {
   "cell_type": "code",
   "execution_count": 36,
   "metadata": {},
   "outputs": [],
   "source": [
    "import os\n",
    "import gdown\n",
    "import duckdb as db\n",
    "import pandas as pd \n",
    "from sqlalchemy import create_engine\n",
    "from dotenv import load_dotenv\n",
    "\n",
    "from duckdb import DuckDBPyRelation\n",
    "\n",
    "# Loading variable set on .env file\n",
    "load_dotenv()  \n",
    "\n",
    "url_files = \"https://drive.google.com/drive/u/0/folders/1sHWsb1_Dnu8xTzOznWOqFGBZCs5aLNA9\"\n",
    "local_dir = \"./pasta_down\""
   ]
  },
  {
   "cell_type": "code",
   "execution_count": 5,
   "metadata": {},
   "outputs": [
    {
     "name": "stderr",
     "output_type": "stream",
     "text": [
      "Retrieving folder contents\n"
     ]
    },
    {
     "name": "stdout",
     "output_type": "stream",
     "text": [
      "Processing file 1l_fT39kg5oKoA4SMdKwubUyGXDtIIATX orders_20240817.csv\n",
      "Processing file 1Ojx4-T89VepW3FHBYNsX0Z1YjmjAyPHy orders_20240818.csv\n",
      "Processing file 1QQ2yV3RGV89ERIadThUE6Fd1v4ug91iz orders_20240819.csv\n"
     ]
    },
    {
     "name": "stderr",
     "output_type": "stream",
     "text": [
      "Retrieving folder contents completed\n",
      "Building directory structure\n",
      "Building directory structure completed\n",
      "Downloading...\n",
      "From: https://drive.google.com/uc?id=1l_fT39kg5oKoA4SMdKwubUyGXDtIIATX\n",
      "To: c:\\Users\\Henrique Hashimoto\\Desktop\\repos\\duckdb-docker-etl\\pasta_down\\orders_20240817.csv\n",
      "100%|██████████| 974/974 [00:00<?, ?B/s] \n",
      "Downloading...\n",
      "From: https://drive.google.com/uc?id=1Ojx4-T89VepW3FHBYNsX0Z1YjmjAyPHy\n",
      "To: c:\\Users\\Henrique Hashimoto\\Desktop\\repos\\duckdb-docker-etl\\pasta_down\\orders_20240818.csv\n",
      "100%|██████████| 983/983 [00:00<00:00, 984kB/s]\n",
      "Downloading...\n",
      "From: https://drive.google.com/uc?id=1QQ2yV3RGV89ERIadThUE6Fd1v4ug91iz\n",
      "To: c:\\Users\\Henrique Hashimoto\\Desktop\\repos\\duckdb-docker-etl\\pasta_down\\orders_20240819.csv\n",
      "100%|██████████| 983/983 [00:00<00:00, 983kB/s]\n",
      "Download completed\n"
     ]
    }
   ],
   "source": [
    "#------------------------------\n",
    "# GET FILES FROM GOOGLE DRIVE\n",
    "#------------------------------\n",
    "def download_files(url_files, local_dir):\n",
    "    os.makedirs(local_dir, exist_ok=True)\n",
    "    gdown.download_folder(url_files, output=local_dir, quiet=False, use_cookies=False)\n",
    "\n",
    "download_files(url_files=url_files, local_dir=local_dir)"
   ]
  },
  {
   "cell_type": "code",
   "execution_count": 6,
   "metadata": {},
   "outputs": [
    {
     "data": {
      "text/plain": [
       "['./pasta_down\\\\orders_20240817.csv',\n",
       " './pasta_down\\\\orders_20240818.csv',\n",
       " './pasta_down\\\\orders_20240819.csv',\n",
       " './pasta_down\\\\titanic_clean.csv']"
      ]
     },
     "execution_count": 6,
     "metadata": {},
     "output_type": "execute_result"
    }
   ],
   "source": [
    "def list_files_csv(dir):\n",
    "    csv_files = []\n",
    "\n",
    "    all_files = os.listdir(dir)\n",
    "    for file in all_files:\n",
    "        if file.endswith(\"csv\"): # Getting the csv files \n",
    "            path = os.path.join(dir, file)\n",
    "            csv_files.append(path)\n",
    "    return csv_files\n",
    "\n",
    "list_files_csv(local_dir)"
   ]
  },
  {
   "cell_type": "code",
   "execution_count": 50,
   "metadata": {},
   "outputs": [],
   "source": [
    "def read_csv(file_path):\n",
    "    df_duckb = db.read_csv(file_path).df()\n",
    "    return df_duckb"
   ]
  },
  {
   "cell_type": "code",
   "execution_count": 44,
   "metadata": {},
   "outputs": [],
   "source": [
    "def save_on_psql(df_db, table):    \n",
    "    db_url = os.getenv(\"DATABASE_URL\")\n",
    "    engine = create_engine(db_url)\n",
    "    \n",
    "    df_db = db.sql(\"\"\"\n",
    "       select dt.*\n",
    "       from df_test as dt \n",
    "       left join df on dt.order_id = df.order_id\n",
    "       where df.order_id is null\n",
    "    \"\"\").df()\n",
    "\n",
    "    df_db.to_sql(table, con=engine, if_exists=\"append\", index=False)"
   ]
  },
  {
   "cell_type": "code",
   "execution_count": 52,
   "metadata": {},
   "outputs": [
    {
     "data": {
      "text/html": [
       "<div>\n",
       "<style scoped>\n",
       "    .dataframe tbody tr th:only-of-type {\n",
       "        vertical-align: middle;\n",
       "    }\n",
       "\n",
       "    .dataframe tbody tr th {\n",
       "        vertical-align: top;\n",
       "    }\n",
       "\n",
       "    .dataframe thead th {\n",
       "        text-align: right;\n",
       "    }\n",
       "</style>\n",
       "<table border=\"1\" class=\"dataframe\">\n",
       "  <thead>\n",
       "    <tr style=\"text-align: right;\">\n",
       "      <th></th>\n",
       "      <th>order_id</th>\n",
       "      <th>sell_date</th>\n",
       "      <th>client_id</th>\n",
       "      <th>product_id</th>\n",
       "      <th>order_value</th>\n",
       "    </tr>\n",
       "  </thead>\n",
       "  <tbody>\n",
       "    <tr>\n",
       "      <th>0</th>\n",
       "      <td>1</td>\n",
       "      <td>2024-01-01</td>\n",
       "      <td>1001</td>\n",
       "      <td>2001</td>\n",
       "      <td>29.99</td>\n",
       "    </tr>\n",
       "    <tr>\n",
       "      <th>1</th>\n",
       "      <td>2</td>\n",
       "      <td>2024-01-02</td>\n",
       "      <td>1002</td>\n",
       "      <td>2002</td>\n",
       "      <td>59.99</td>\n",
       "    </tr>\n",
       "    <tr>\n",
       "      <th>2</th>\n",
       "      <td>3</td>\n",
       "      <td>2024-01-03</td>\n",
       "      <td>1003</td>\n",
       "      <td>2003</td>\n",
       "      <td>39.99</td>\n",
       "    </tr>\n",
       "    <tr>\n",
       "      <th>3</th>\n",
       "      <td>4</td>\n",
       "      <td>2024-01-04</td>\n",
       "      <td>1004</td>\n",
       "      <td>2004</td>\n",
       "      <td>89.99</td>\n",
       "    </tr>\n",
       "    <tr>\n",
       "      <th>4</th>\n",
       "      <td>5</td>\n",
       "      <td>2024-01-05</td>\n",
       "      <td>1005</td>\n",
       "      <td>2005</td>\n",
       "      <td>49.99</td>\n",
       "    </tr>\n",
       "  </tbody>\n",
       "</table>\n",
       "</div>"
      ],
      "text/plain": [
       "   order_id  sell_date  client_id  product_id  order_value\n",
       "0         1 2024-01-01       1001        2001        29.99\n",
       "1         2 2024-01-02       1002        2002        59.99\n",
       "2         3 2024-01-03       1003        2003        39.99\n",
       "3         4 2024-01-04       1004        2004        89.99\n",
       "4         5 2024-01-05       1005        2005        49.99"
      ]
     },
     "execution_count": 52,
     "metadata": {},
     "output_type": "execute_result"
    }
   ],
   "source": [
    "df_test = read_csv(\"./pasta_down/orders_20240817.csv\")\n",
    "df_test.head()"
   ]
  },
  {
   "cell_type": "code",
   "execution_count": 103,
   "metadata": {},
   "outputs": [],
   "source": [
    "import psycopg2\n",
    "\n",
    "def verify_data(query, df_new, key):\n",
    "    conn = psycopg2.connect(\n",
    "        dbname='dbduck',\n",
    "        user=os.getenv(\"pguser\"),\n",
    "        password=os.getenv(\"pgpass\"),\n",
    "        host=os.getenv(\"pghost\"),\n",
    "        port=os.getenv(\"pgport\")\n",
    "    )\n",
    "\n",
    "    # select the table    \n",
    "    df_original = pd.DataFrame(pd.read_sql_query(query, conn))\n",
    "\n",
    "    # closing the connection\n",
    "    conn.close()\n",
    "\n",
    "\n",
    "    #Returning only data that is not on database yet\n",
    "    df_verified = db.sql(f\"\"\"\n",
    "                        select dn.*\n",
    "                        from df_new as dn\n",
    "                        left join df_original as dfo on dn.\"{key}\" = dfo.\"{key}\"\n",
    "                        where dfo.\"{key}\" is null;\n",
    "    \"\"\").df()\n",
    "\n",
    "    return df_verified"
   ]
  },
  {
   "cell_type": "code",
   "execution_count": 104,
   "metadata": {},
   "outputs": [
    {
     "name": "stderr",
     "output_type": "stream",
     "text": [
      "C:\\Users\\Henrique Hashimoto\\AppData\\Local\\Temp\\ipykernel_22004\\16312633.py:14: UserWarning: pandas only supports SQLAlchemy connectable (engine/connection) or database string URI or sqlite3 DBAPI2 connection. Other DBAPI2 objects are not tested. Please consider using SQLAlchemy.\n",
      "  df_original = pd.DataFrame(pd.read_sql_query(query, conn))\n"
     ]
    },
    {
     "data": {
      "text/html": [
       "<div>\n",
       "<style scoped>\n",
       "    .dataframe tbody tr th:only-of-type {\n",
       "        vertical-align: middle;\n",
       "    }\n",
       "\n",
       "    .dataframe tbody tr th {\n",
       "        vertical-align: top;\n",
       "    }\n",
       "\n",
       "    .dataframe thead th {\n",
       "        text-align: right;\n",
       "    }\n",
       "</style>\n",
       "<table border=\"1\" class=\"dataframe\">\n",
       "  <thead>\n",
       "    <tr style=\"text-align: right;\">\n",
       "      <th></th>\n",
       "      <th>order_id</th>\n",
       "      <th>sell_date</th>\n",
       "      <th>client_id</th>\n",
       "      <th>product_id</th>\n",
       "      <th>order_value</th>\n",
       "    </tr>\n",
       "  </thead>\n",
       "  <tbody>\n",
       "    <tr>\n",
       "      <th>0</th>\n",
       "      <td>11</td>\n",
       "      <td>2024-01-11</td>\n",
       "      <td>1011</td>\n",
       "      <td>2011</td>\n",
       "      <td>39.99</td>\n",
       "    </tr>\n",
       "    <tr>\n",
       "      <th>1</th>\n",
       "      <td>12</td>\n",
       "      <td>2024-01-12</td>\n",
       "      <td>1012</td>\n",
       "      <td>2012</td>\n",
       "      <td>29.99</td>\n",
       "    </tr>\n",
       "    <tr>\n",
       "      <th>2</th>\n",
       "      <td>13</td>\n",
       "      <td>2024-01-13</td>\n",
       "      <td>1013</td>\n",
       "      <td>2013</td>\n",
       "      <td>49.99</td>\n",
       "    </tr>\n",
       "    <tr>\n",
       "      <th>3</th>\n",
       "      <td>14</td>\n",
       "      <td>2024-01-14</td>\n",
       "      <td>1014</td>\n",
       "      <td>2014</td>\n",
       "      <td>69.99</td>\n",
       "    </tr>\n",
       "    <tr>\n",
       "      <th>4</th>\n",
       "      <td>15</td>\n",
       "      <td>2024-01-15</td>\n",
       "      <td>1015</td>\n",
       "      <td>2015</td>\n",
       "      <td>79.99</td>\n",
       "    </tr>\n",
       "  </tbody>\n",
       "</table>\n",
       "</div>"
      ],
      "text/plain": [
       "   order_id  sell_date  client_id  product_id  order_value\n",
       "0        11 2024-01-11       1011        2011        39.99\n",
       "1        12 2024-01-12       1012        2012        29.99\n",
       "2        13 2024-01-13       1013        2013        49.99\n",
       "3        14 2024-01-14       1014        2014        69.99\n",
       "4        15 2024-01-15       1015        2015        79.99"
      ]
     },
     "execution_count": 104,
     "metadata": {},
     "output_type": "execute_result"
    }
   ],
   "source": [
    "test_verify = verify_data('select distinct order_id from orders limit 10', df_test, 'order_id')\n",
    "test_verify.head()"
   ]
  },
  {
   "cell_type": "code",
   "execution_count": 116,
   "metadata": {},
   "outputs": [
    {
     "data": {
      "text/html": [
       "<div>\n",
       "<style scoped>\n",
       "    .dataframe tbody tr th:only-of-type {\n",
       "        vertical-align: middle;\n",
       "    }\n",
       "\n",
       "    .dataframe tbody tr th {\n",
       "        vertical-align: top;\n",
       "    }\n",
       "\n",
       "    .dataframe thead th {\n",
       "        text-align: right;\n",
       "    }\n",
       "</style>\n",
       "<table border=\"1\" class=\"dataframe\">\n",
       "  <thead>\n",
       "    <tr style=\"text-align: right;\">\n",
       "      <th></th>\n",
       "      <th>sell_month</th>\n",
       "      <th>total_value</th>\n",
       "    </tr>\n",
       "  </thead>\n",
       "  <tbody>\n",
       "    <tr>\n",
       "      <th>0</th>\n",
       "      <td>2024-1</td>\n",
       "      <td>1229.8</td>\n",
       "    </tr>\n",
       "  </tbody>\n",
       "</table>\n",
       "</div>"
      ],
      "text/plain": [
       "  sell_month  total_value\n",
       "0     2024-1       1229.8"
      ]
     },
     "execution_count": 116,
     "metadata": {},
     "output_type": "execute_result"
    }
   ],
   "source": [
    "def transform(df):\n",
    "    # Creating new column\n",
    "    df_new = db.sql(\"\"\"\n",
    "                    select\n",
    "                        concat(year(sell_date), '-', month(sell_date)) as sell_month,\n",
    "                        sum(order_value) as total_value\n",
    "                    from \n",
    "                        df\n",
    "                    group by \n",
    "                        concat(year(sell_date), '-', month(sell_date))\n",
    "                    \"\"\").df()\n",
    "    return df_new\n",
    "\n",
    "df_t = transform(df_verified)\n",
    "df_t.head()"
   ]
  },
  {
   "cell_type": "code",
   "execution_count": 118,
   "metadata": {},
   "outputs": [
    {
     "name": "stderr",
     "output_type": "stream",
     "text": [
      "C:\\Users\\Henrique Hashimoto\\AppData\\Local\\Temp\\ipykernel_22004\\1258850698.py:11: UserWarning: pandas only supports SQLAlchemy connectable (engine/connection) or database string URI or sqlite3 DBAPI2 connection. Other DBAPI2 objects are not tested. Please consider using SQLAlchemy.\n",
      "  df_original = pd.DataFrame(pd.read_sql_query(query, conn))\n"
     ]
    },
    {
     "data": {
      "text/html": [
       "<div>\n",
       "<style scoped>\n",
       "    .dataframe tbody tr th:only-of-type {\n",
       "        vertical-align: middle;\n",
       "    }\n",
       "\n",
       "    .dataframe tbody tr th {\n",
       "        vertical-align: top;\n",
       "    }\n",
       "\n",
       "    .dataframe thead th {\n",
       "        text-align: right;\n",
       "    }\n",
       "</style>\n",
       "<table border=\"1\" class=\"dataframe\">\n",
       "  <thead>\n",
       "    <tr style=\"text-align: right;\">\n",
       "      <th></th>\n",
       "      <th>sell_month</th>\n",
       "      <th>total_value</th>\n",
       "    </tr>\n",
       "  </thead>\n",
       "  <tbody>\n",
       "    <tr>\n",
       "      <th>0</th>\n",
       "      <td>2024-1</td>\n",
       "      <td>1229.8</td>\n",
       "    </tr>\n",
       "  </tbody>\n",
       "</table>\n",
       "</div>"
      ],
      "text/plain": [
       "  sell_month  total_value\n",
       "0     2024-1       1229.8"
      ]
     },
     "execution_count": 118,
     "metadata": {},
     "output_type": "execute_result"
    }
   ],
   "source": [
    "def verify_data(query, df_new, key):\n",
    "    conn = psycopg2.connect(\n",
    "        dbname='dbduck',\n",
    "        user=os.getenv(\"pguser\"),\n",
    "        password=os.getenv(\"pgpass\"),\n",
    "        host=os.getenv(\"pghost\"),\n",
    "        port=os.getenv(\"pgport\")\n",
    "    )\n",
    "\n",
    "    # select the table    \n",
    "    df_original = pd.DataFrame(pd.read_sql_query(query, conn))\n",
    "\n",
    "    # closing the connection\n",
    "    conn.close()\n",
    "\n",
    "\n",
    "    #Returning only data that is not on database yet\n",
    "    df_verified = db.sql(f\"\"\"\n",
    "                        select dn.*\n",
    "                        from df_new as dn\n",
    "                        left join df_original as dfo on dn.\"{key}\" = dfo.\"{key}\"\n",
    "                        where dfo.\"{key}\" is null;\n",
    "    \"\"\").df()\n",
    "\n",
    "    return df_verified\n",
    "\n",
    "df_transform_v = verify_data(\"select distinct sell_month from orders_calc\", df_t, \"sell_month\")\n",
    "df_transform_v.head()"
   ]
  },
  {
   "cell_type": "code",
   "execution_count": 114,
   "metadata": {},
   "outputs": [
    {
     "data": {
      "text/html": [
       "<div>\n",
       "<style scoped>\n",
       "    .dataframe tbody tr th:only-of-type {\n",
       "        vertical-align: middle;\n",
       "    }\n",
       "\n",
       "    .dataframe tbody tr th {\n",
       "        vertical-align: top;\n",
       "    }\n",
       "\n",
       "    .dataframe thead th {\n",
       "        text-align: right;\n",
       "    }\n",
       "</style>\n",
       "<table border=\"1\" class=\"dataframe\">\n",
       "  <thead>\n",
       "    <tr style=\"text-align: right;\">\n",
       "      <th></th>\n",
       "      <th>sell_month</th>\n",
       "      <th>total_value</th>\n",
       "    </tr>\n",
       "  </thead>\n",
       "  <tbody>\n",
       "    <tr>\n",
       "      <th>0</th>\n",
       "      <td>2024-1</td>\n",
       "      <td>1229.8</td>\n",
       "    </tr>\n",
       "  </tbody>\n",
       "</table>\n",
       "</div>"
      ],
      "text/plain": [
       "  sell_month  total_value\n",
       "0     2024-1       1229.8"
      ]
     },
     "execution_count": 114,
     "metadata": {},
     "output_type": "execute_result"
    }
   ],
   "source": [
    "def transform(df):\n",
    "    # Creating new column\n",
    "    df_new = db.sql(\"\"\"\n",
    "                    select\n",
    "                        concat(year(sell_date), '-', month(sell_date)) as sell_month,\n",
    "                        sum(order_value) as total_value\n",
    "                    from \n",
    "                        df\n",
    "                    group by \n",
    "                        concat(year(sell_date), '-', month(sell_date))\n",
    "                    \"\"\").df()\n",
    "    return df_new\n",
    "\n",
    "transform(test_verify)"
   ]
  }
 ],
 "metadata": {
  "kernelspec": {
   "display_name": "duckdb-docker-etl-7wcjH13O-py3.12",
   "language": "python",
   "name": "python3"
  },
  "language_info": {
   "codemirror_mode": {
    "name": "ipython",
    "version": 3
   },
   "file_extension": ".py",
   "mimetype": "text/x-python",
   "name": "python",
   "nbconvert_exporter": "python",
   "pygments_lexer": "ipython3",
   "version": "3.12.5"
  }
 },
 "nbformat": 4,
 "nbformat_minor": 2
}
